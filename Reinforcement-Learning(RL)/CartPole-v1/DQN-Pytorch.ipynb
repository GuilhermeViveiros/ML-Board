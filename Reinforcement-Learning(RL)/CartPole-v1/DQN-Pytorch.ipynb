{
 "cells": [
  {
   "cell_type": "code",
   "execution_count": 1,
   "metadata": {},
   "outputs": [],
   "source": [
    "%matplotlib inline\n",
    "import gym\n",
    "import math\n",
    "import random\n",
    "import numpy as np\n",
    "import matplotlib\n",
    "import matplotlib.pyplot as plt\n",
    "from collections import namedtuple\n",
    "from itertools import count #just to count\n",
    "from PIL import Image\n",
    "\n",
    "import torch #API\n",
    "import torch.nn as nn #for neural networks\n",
    "import torch.nn.functional as F #functional calls, like linear, etc\n",
    "import torchvision.transforms as T #Transformers\n",
    "from torch import transpose #operations\n",
    "from torch import optim #optimizeers, like ADAM, RMSProp, SGD, ADelta, Momentum."
   ]
  },
  {
   "cell_type": "code",
   "execution_count": null,
   "metadata": {},
   "outputs": [],
   "source": [
    "import gy"
   ]
  },
  {
   "cell_type": "markdown",
   "metadata": {},
   "source": [
    "### Next, we import IPython’s display module to aid us in plotting images to the screen later."
   ]
  },
  {
   "cell_type": "code",
   "execution_count": 2,
   "metadata": {},
   "outputs": [],
   "source": [
    "is_ipython = 'inline' in matplotlib.get_backend()\n",
    "if is_ipython: from IPython import display"
   ]
  },
  {
   "cell_type": "code",
   "execution_count": 27,
   "metadata": {},
   "outputs": [],
   "source": [
    "class DQN(nn.Module):\n",
    "    def __init__(self,img_h,img_w):\n",
    "        super().__init__()\n",
    "        \n",
    "        #self.fc1 = nn.Conv2d(in_channels = 3, out_channels = 32, kernel_size = (2,2))\n",
    "        #self.fc1 = nn.Conv2d(in_channels = 32, out_channels = 64, kernel_size = (2,2))\n",
    "        self.fc1 = nn.Linear(in_features = (3 * img_h * img_w) , out_features = 64)\n",
    "        self.fc2 = nn.Linear(in_features = 64, out_features = 64)\n",
    "        self.out = nn.Linear(in_features = 64, out_features = 2) #left or right in the Cart-Pole dynamics\n",
    "        \n",
    "    def forward(self,t):\n",
    "\n",
    "        t = t.flatten(start_dim = 1)\n",
    "        t = F.relu(self.fc1(t))\n",
    "        t = F.relu(self.fc2(t))\n",
    "\n",
    "        return self.out(t)        \n",
    "        \n",
    "        \n",
    "        "
   ]
  },
  {
   "cell_type": "code",
   "execution_count": 28,
   "metadata": {},
   "outputs": [],
   "source": [
    "from collections import namedtuple\n",
    "\n",
    "Experience = namedtuple(\n",
    "                'Experience',\n",
    "                ('state','action','next_state','reward')\n",
    ")"
   ]
  },
  {
   "cell_type": "code",
   "execution_count": 29,
   "metadata": {},
   "outputs": [],
   "source": [
    "class ReplayMemory():\n",
    "    def __init__(self,capacity):    \n",
    "        self.memory = []\n",
    "        self.capacity = capacity\n",
    "        self.push_count = 0\n",
    "    \n",
    "    def push(self,experience):\n",
    "        \n",
    "        if(len(self.memory) < self.capacity):\n",
    "            self.memory.append(experience)\n",
    "        else:\n",
    "            self.memory[self.push_count % self.capacity] = experience\n",
    "        \n",
    "        self.push_count +=1\n",
    "    \n",
    "    def sample(self,batch_size):\n",
    "        return random.sample(self.memory,batch_size)\n",
    "    \n",
    "    def can_provide_sample(self):\n",
    "        return len(self.memory) >= batch_size\n",
    "        "
   ]
  },
  {
   "cell_type": "code",
   "execution_count": 30,
   "metadata": {},
   "outputs": [],
   "source": [
    "class Epsilon_Greedy():\n",
    "    def __init__(self,start,end,decay):\n",
    "        self.start = start\n",
    "        self.end = end\n",
    "        self.decay = decay\n",
    "    \n",
    "    def get_exploration_rate(self,current_step):\n",
    "        return self.end + (self.start - self.end) * math.exp(-1. * current_step * self.decay)"
   ]
  },
  {
   "cell_type": "code",
   "execution_count": 31,
   "metadata": {},
   "outputs": [],
   "source": [
    "class Agent():\n",
    "    #the divice explicits the divice for PyTorch to use to tensor calculations ->  CPU or GPU\n",
    "    def __init__(self,strategy,num_actions,device):\n",
    "        \n",
    "        self.strategy = strategy\n",
    "        self.num_actions = num_actions\n",
    "        self.device = device\n",
    "        self.current_step = 0\n",
    "        \n",
    "        \n",
    "    def select_action(self, state, policy_net):\n",
    "        \n",
    "    \n",
    "        rate = self.strategy.get_exploration_rate(self.current_step)\n",
    "        self.current_step += 1\n",
    "\n",
    "        if rate > random.random():\n",
    "            return random.randrange(self.num_actions) # explore      \n",
    "        else:\n",
    "            with torch.no_grad():\n",
    "                return policy_net(state).argmax(dim=1).item() # exploit    \n",
    "        "
   ]
  },
  {
   "cell_type": "code",
   "execution_count": 32,
   "metadata": {},
   "outputs": [],
   "source": [
    "class CarPoleEnvironment():\n",
    "    def __init__(self,device):\n",
    "        #unwrapped gives the back screen dynamics\n",
    "        self.env = gym.make('CartPole-v0').unwrapped\n",
    "        self.env.reset()\n",
    "        self.device = device\n",
    "        #Not yet rendered\n",
    "        self.current_screen = None\n",
    "        self.done = False\n",
    "        \n",
    "    def reset(self):\n",
    "        self.env.reset()\n",
    "        self.current_screen = None\n",
    "    \n",
    "    def close(self):\n",
    "        self.env.close()\n",
    "    \n",
    "    def render(self,mode='human'):\n",
    "        return self.env.render(mode)\n",
    "    \n",
    "    def num_actions_available(self):\n",
    "        return self.env.action_space.n\n",
    "    \n",
    "    def take_action(self,action):\n",
    "        _, reward, done, info = self.env.step(action)\n",
    "        self.done = done\n",
    "        return torch.tensor([reward], device = self.device)\n",
    "    \n",
    "    def just_starting(self):\n",
    "        return self.current_screen is None\n",
    "    \n",
    "    def get_state(self):\n",
    "        \n",
    "        if self.just_starting() or self.done:\n",
    "            self.current_screen = self.get_processed_screen()\n",
    "            black_screen = torch.zeros_like(self.current_screen)\n",
    "            \n",
    "            return black_screen\n",
    "        \n",
    "        else:\n",
    "            s1 = self.current_screen\n",
    "            s2 = self.get_processed_screen()\n",
    "            self.current_screen = s2\n",
    "            \n",
    "            return s2 - s1\n",
    "\n",
    "    \n",
    "    def get_screen_height(self):\n",
    "        screen = self.get_processed_screen()\n",
    "        return screen.shape[2]\n",
    "    \n",
    "    def get_screen_width(self):\n",
    "        screen = self.get_processed_screen()\n",
    "        return screen.shape[3]\n",
    "    \n",
    "    def get_processed_screen(self):\n",
    "        screen = self.render('rgb_array').transpose((2, 0, 1)) # PyTorch expects CHW\n",
    "        screen = self.crop_screen(screen)\n",
    "        return self.transform_screen_data(screen)\n",
    "        \n",
    "    def crop_screen(self,screen):\n",
    "        h = screen.shape[1]\n",
    "        \n",
    "        h1 = int (h * 0.4)\n",
    "        h2 = int (h * 0.8)\n",
    "        \n",
    "        screen = screen[:, h1:h2, : ]\n",
    "        \n",
    "        return screen\n",
    "    \n",
    "    def transform_screen_data(self, screen):       \n",
    "        # Convert to float, rescale, convert to tensor\n",
    "        screen = np.ascontiguousarray(screen, dtype=np.float32) / 255\n",
    "        screen = torch.from_numpy(screen)\n",
    "\n",
    "        # Use torchvision package to compose image transforms\n",
    "        resize = T.Compose([\n",
    "            T.ToPILImage()\n",
    "            ,T.Resize((40,90))\n",
    "            ,T.ToTensor()\n",
    "        ])\n",
    "\n",
    "        return resize(screen).unsqueeze(0).to(self.device) # add a batch dimension (BCHW)"
   ]
  },
  {
   "cell_type": "code",
   "execution_count": 33,
   "metadata": {},
   "outputs": [],
   "source": [
    "def plot(values, moving_avg_period):\n",
    "    plt.figure(2)\n",
    "    plt.clf()        \n",
    "    plt.title('Training...')\n",
    "    plt.xlabel('Episode')\n",
    "    plt.ylabel('Duration')\n",
    "    plt.plot(values)\n",
    "\n",
    "    moving_avg = get_moving_average(moving_avg_period, values)\n",
    "    plt.plot(moving_avg)    \n",
    "    plt.pause(0.001)\n",
    "    print(\"Episode\", len(values), \"\\n\", \\\n",
    "        moving_avg_period, \"episode moving avg:\", moving_avg[-1])\n",
    "    if is_ipython: display.clear_output(wait=True)"
   ]
  },
  {
   "cell_type": "code",
   "execution_count": 34,
   "metadata": {},
   "outputs": [],
   "source": [
    "def get_moving_average(period, values):\n",
    "    values = torch.tensor(values, dtype=torch.float)\n",
    "    if len(values) >= period:\n",
    "        moving_avg = values.unfold(dimension=0, size=period, step=1) \\\n",
    "            .mean(dim=1).flatten(start_dim=0)\n",
    "        moving_avg = torch.cat((torch.zeros(period-1), moving_avg))\n",
    "        return moving_avg.numpy()\n",
    "    else:\n",
    "        moving_avg = torch.zeros(len(values))\n",
    "        return moving_avg.numpy()"
   ]
  },
  {
   "cell_type": "markdown",
   "metadata": {},
   "source": [
    "## Main Program"
   ]
  },
  {
   "cell_type": "code",
   "execution_count": 35,
   "metadata": {},
   "outputs": [],
   "source": [
    "batch_size =  32\n",
    "discount = 0.999\n",
    "\n",
    "eps_start = 1\n",
    "eps_end = 0.01\n",
    "eps_decay = 0.001\n",
    "\n",
    "target_update = 10\n",
    "memory_size = 100000\n",
    "lr = 0.001\n",
    "num_episodes = 1000"
   ]
  },
  {
   "cell_type": "code",
   "execution_count": 36,
   "metadata": {},
   "outputs": [],
   "source": [
    "device = torch.device('cpu')"
   ]
  },
  {
   "cell_type": "code",
   "execution_count": 37,
   "metadata": {},
   "outputs": [],
   "source": [
    "eps_greedy = Epsilon_Greedy(eps_start,eps_end,eps_decay)\n",
    "cart_pole = CarPoleEnvironment(device)\n",
    "replay_memory = ReplayMemory(memory_size)\n",
    "agent = Agent(eps_greedy, cart_pole.env.action_space.n, device)"
   ]
  },
  {
   "cell_type": "code",
   "execution_count": 38,
   "metadata": {},
   "outputs": [],
   "source": [
    "h = cart_pole.get_screen_height()\n",
    "w = cart_pole.get_screen_width()"
   ]
  },
  {
   "cell_type": "code",
   "execution_count": 39,
   "metadata": {},
   "outputs": [],
   "source": [
    "policy_net = DQN(h,w).to(device)\n",
    "target_net = DQN(h,w).to(device)"
   ]
  },
  {
   "cell_type": "code",
   "execution_count": 40,
   "metadata": {},
   "outputs": [],
   "source": [
    "#load pesos da policy net para a target\n",
    "target_net.load_state_dict(policy_net.state_dict())\n",
    "#meter target net fixa\n",
    "target_net.eval()\n",
    "#optimzer para back propagation = Adam\n",
    "optimizer = optim.Adam(params=policy_net.parameters(),lr=lr)"
   ]
  },
  {
   "cell_type": "markdown",
   "metadata": {},
   "source": [
    "# Now the final loop\n",
    "\n",
    "### Some auxiliary functions too"
   ]
  },
  {
   "cell_type": "code",
   "execution_count": 41,
   "metadata": {},
   "outputs": [],
   "source": [
    "class QValues():\n",
    "    device = torch.device(\"cpu\")\n",
    "    \n",
    "    @staticmethod\n",
    "    def get_current(policy_net, states, actions):\n",
    "        return policy_net(states).gather(dim=1, index=actions.unsqueeze(-1))\n",
    "    \n",
    "    @staticmethod        \n",
    "    def get_next(target_net, next_states):  \n",
    "        \n",
    "        #isto serve para filtrar todos os terminal states, pois não podemos passa-los à rede target policy.. não têm ações, buga na rede, fodeu tudo se passar, mais vale tar queto\n",
    "        final_state_locations = next_states.flatten(start_dim=1).max(dim=1)[0].eq(0).type(torch.bool)\n",
    "        non_final_state_locations = (final_state_locations == False)\n",
    "        non_final_states = next_states[non_final_state_locations]\n",
    "        batch_size = next_states.shape[0]\n",
    "        #busca o device em cima, neste caso vou treinar em cpu\n",
    "        values = torch.zeros(batch_size).to(QValues.device)\n",
    "        values[non_final_state_locations] = target_net(non_final_states).max(dim=1)[0].detach()\n",
    "        return values"
   ]
  },
  {
   "cell_type": "code",
   "execution_count": 42,
   "metadata": {},
   "outputs": [],
   "source": [
    "def extract_tensors(experiences):\n",
    "    # Convert batch of Experiences to Experience of batches\n",
    "    batch = Experience(*zip(*experiences))\n",
    "\n",
    "    t1 = torch.cat(batch.state)\n",
    "\n",
    "    t2 = torch.cat([torch.Tensor(batch.action)]).type(torch.int64)\n",
    "    #t2 = torch.from_numpy(np.array([batch.action]).astype(np.int64).reshape(256,1))\n",
    "    \n",
    "    t3 = torch.cat(batch.reward)\n",
    "    t4 = torch.cat(batch.next_state)\n",
    "\n",
    "    return (t1,t2,t3,t4)"
   ]
  },
  {
   "cell_type": "code",
   "execution_count": null,
   "metadata": {},
   "outputs": [
    {
     "data": {
      "image/png": "[encoded data removed]",
      "text/plain": [
       "<Figure size 432x288 with 1 Axes>"
      ]
     },
     "metadata": {
      "needs_background": "light"
     },
     "output_type": "display_data"
    },
    {
     "name": "stdout",
     "output_type": "stream",
     "text": [
      "Episode 502 \n",
      " 100 episode moving avg: 67.27\n"
     ]
    }
   ],
   "source": [
    "episode_durations = []\n",
    "\n",
    "for episode in range(num_episodes):\n",
    "    cart_pole.reset()\n",
    "    state = cart_pole.get_state()\n",
    "    \n",
    "    for timestep in count():\n",
    "        \n",
    "    \n",
    "        action = agent.select_action(state,policy_net)  \n",
    "        \n",
    "        #Corresponding reward and state(image)\n",
    "        reward = cart_pole.take_action(action)\n",
    "        next_state = cart_pole.get_state()\n",
    "    \n",
    "        #push to the memory buffer\n",
    "        replay_memory.push(Experience(state,action,reward,next_state))\n",
    "        state = next_state\n",
    "    \n",
    "    \n",
    "        #quando tiver um tamanho do replay memory maior que o meu batch size\n",
    "        if(replay_memory.can_provide_sample()):\n",
    "        \n",
    "            experiences = replay_memory.sample(batch_size)\n",
    "        \n",
    "            states, actions, next_states, rewards = extract_tensors(experiences)\n",
    "        \n",
    "            current_q_values = QValues.get_current(policy_net,states,actions)\n",
    "            next_q_values = QValues.get_next(target_net,next_states)\n",
    "            \n",
    "            #as written in Bell-man Equation\n",
    "            target_values = rewards + (discount * next_q_values)\n",
    "        \n",
    "            loss = F.mse_loss(current_q_values,target_values.unsqueeze(1))\n",
    "        \n",
    "            #OS gradientes anteriores são eliminados, para não occorrer cumulative gradients\n",
    "            optimizer.zero_grad()\n",
    "        \n",
    "            #back-propagation\n",
    "            loss.backward()\n",
    "        \n",
    "        \n",
    "            #optimization\n",
    "            optimizer.step()\n",
    "        \n",
    "        if(cart_pole.done):\n",
    "            episode_durations.append(timestep)\n",
    "            plot(episode_durations,100)\n",
    "            break\n",
    "    \n",
    "    if(episode % target_update == 0):\n",
    "        target_net.load_state_dict(policy_net.state_dict())\n",
    "        \n",
    "cart_pole.close()"
   ]
  },
  {
   "cell_type": "code",
   "execution_count": null,
   "metadata": {},
   "outputs": [],
   "source": []
  },
  {
   "cell_type": "code",
   "execution_count": null,
   "metadata": {},
   "outputs": [],
   "source": []
  }
 ],
 "metadata": {
  "kernelspec": {
   "display_name": "Python 3",
   "language": "python",
   "name": "python3"
  },
  "language_info": {
   "codemirror_mode": {
    "name": "ipython",
    "version": 3
   },
   "file_extension": ".py",
   "mimetype": "text/x-python",
   "name": "python",
   "nbconvert_exporter": "python",
   "pygments_lexer": "ipython3",
   "version": "3.8.2"
  }
 },
 "nbformat": 4,
 "nbformat_minor": 4
}
