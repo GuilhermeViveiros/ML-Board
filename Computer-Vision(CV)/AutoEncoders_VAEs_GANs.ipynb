{
  "nbformat": 4,
  "nbformat_minor": 0,
  "metadata": {
    "colab": {
      "name": "AutoEncoders-VAEs-GANs.ipynb",
      "provenance": [],
      "collapsed_sections": []
    },
    "kernelspec": {
      "name": "python3",
      "display_name": "Python 3"
    },
    "accelerator": "GPU"
  },
  "cells": [
    {
      "cell_type": "code",
      "metadata": {
        "colab": {
          "base_uri": "https://localhost:8080/"
        },
        "id": "1ziRyVmGwV4L",
        "outputId": "74fd5a22-79c9-45d7-ab6c-c4dccbf55e1a"
      },
      "source": [
        "import numpy as np\n",
        "import os\n",
        "import pandas as pd\n",
        "import matplotlib.pyplot as plt\n",
        "import tensorflow as tf\n",
        "from PIL import Image\n",
        "\n",
        "import tensorflow as tf\n",
        "\n",
        "\n",
        "assert tf.__version__[0] == '2' , \"Update tf version\"\n",
        "\n",
        "\n",
        "print(\"Tf version = \" + str(tf.__version__) + \" | Keras version = \" + str(tf.keras.__version__))\n",
        "\n",
        "assert len(tf.config.list_physical_devices('GPU')) > 0 , \"Try to use at least on GPU for this task\""
      ],
      "execution_count": null,
      "outputs": [
        {
          "output_type": "stream",
          "text": [
            "Tf version = 2.4.1 | Keras version = 2.4.0\n"
          ],
          "name": "stdout"
        }
      ]
    },
    {
      "cell_type": "code",
      "metadata": {
        "id": "snjunYmpw4hc"
      },
      "source": [
        "(x_train, y_train), (x_test, y_test) = tf.keras.datasets.mnist.load_data()\n",
        "\n",
        "x_train = np.expand_dims(x_train, axis = -1) / 255\n",
        "x_test  = np.expand_dims(x_test, axis = -1) / 255\n",
        "\n",
        "initial_shape = x_train[0].shape"
      ],
      "execution_count": null,
      "outputs": []
    },
    {
      "cell_type": "markdown",
      "metadata": {
        "id": "FSQIfacJzi-e"
      },
      "source": [
        "## Building an efficient preprocessing pipeline"
      ]
    },
    {
      "cell_type": "code",
      "metadata": {
        "id": "o8wqnPp6znlZ"
      },
      "source": [
        "batch_size = 64\n",
        "train_data = tf.data.Dataset.from_tensor_slices((x_train,x_train))\n",
        "train_data = train_data.map(lambda x,y : (tf.cast(x,tf.float32),tf.cast(y,tf.float32)) )\n",
        "train_data = train_data.shuffle(x_train.shape[0]).batch(batch_size).prefetch(1)\n",
        "\n",
        "test_data = tf.data.Dataset.from_tensor_slices((x_test,x_test))\n",
        "test_data = test_data.map(lambda x,y : (tf.cast(x,tf.float32),tf.cast(y,tf.float32)))\n",
        "test_data = test_data.shuffle(x_test.shape[0]).batch(batch_size).prefetch(1)"
      ],
      "execution_count": null,
      "outputs": []
    },
    {
      "cell_type": "markdown",
      "metadata": {
        "id": "AqNXM86tzBtt"
      },
      "source": [
        "## Deep AutoEncoder"
      ]
    },
    {
      "cell_type": "code",
      "metadata": {
        "id": "bUjpzGuXxAvD"
      },
      "source": [
        "from functools import partial\n",
        "\n",
        "ConvolutionalLayer = partial(\n",
        "                        tf.keras.layers.Conv2D,\n",
        "                        filters = 64,\n",
        "                        kernel_size = 3,\n",
        "                        padding = 'valid',\n",
        "                        strides = 1,\n",
        "                        activation = 'relu',\n",
        "                        #kernel_initializer = tf.keras.initializers.HeNormal()\n",
        ")\n",
        "\n",
        "TransposedConvolutional = partial(\n",
        "                        tf.keras.layers.Conv2DTranspose,\n",
        "                        filters = 64,\n",
        "                        kernel_size = 1,\n",
        "                        padding = 'valid',\n",
        "                        strides = 1,\n",
        "                        activation = 'relu',\n",
        "                        #kernel_initializer = tf.keras.initializers.HeNormal()\n",
        ")"
      ],
      "execution_count": null,
      "outputs": []
    },
    {
      "cell_type": "code",
      "metadata": {
        "colab": {
          "base_uri": "https://localhost:8080/"
        },
        "id": "MnK4f-rszC_s",
        "outputId": "f6aeb8b6-ddd1-4154-d795-2885e2ea5daa"
      },
      "source": [
        "encoder = tf.keras.models.Sequential([\n",
        "    tf.keras.layers.Input(shape=(28,28,1)),\n",
        "    tf.keras.layers.GaussianNoise(stddev=0.1),\n",
        "    ConvolutionalLayer(filters = 64 , kernel_size = 3, strides = 2),\n",
        "    ConvolutionalLayer(filters = 128, kernel_size = 3),\n",
        "    ConvolutionalLayer(filters = 128, kernel_size = 3, name = 'codings')\n",
        "])\n",
        "\n",
        "encoder._name = 'encoder'\n",
        "\n",
        "\n",
        "decoder = tf.keras.models.Sequential([\n",
        "    tf.keras.layers.Input(shape=encoder.output_shape[1:]),\n",
        "    TransposedConvolutional(filters = 128 , kernel_size = 3, strides = 1),\n",
        "    TransposedConvolutional(filters = 64, kernel_size = 3, strides = 1),\n",
        "    #reconstruct loss\n",
        "    TransposedConvolutional(filters = 1, kernel_size = 4, strides = 2, name = 'reconstructed_image'),\n",
        "])\n",
        "\n",
        "decoder._name = 'decoder'\n",
        "\n",
        "#encoder.summary()\n",
        "#decoder.summary()\n",
        "\n",
        "autoencoder = tf.keras.Sequential([\n",
        "    tf.keras.Input(shape=initial_shape),\n",
        "    encoder,\n",
        "    decoder\n",
        "])\n",
        "\n",
        "autoencoder.summary()"
      ],
      "execution_count": null,
      "outputs": [
        {
          "output_type": "stream",
          "text": [
            "Model: \"sequential_8\"\n",
            "_________________________________________________________________\n",
            "Layer (type)                 Output Shape              Param #   \n",
            "=================================================================\n",
            "encoder (Sequential)         (None, 9, 9, 128)         222080    \n",
            "_________________________________________________________________\n",
            "decoder (Sequential)         (None, 28, 28, 1)         222401    \n",
            "=================================================================\n",
            "Total params: 444,481\n",
            "Trainable params: 444,481\n",
            "Non-trainable params: 0\n",
            "_________________________________________________________________\n"
          ],
          "name": "stdout"
        }
      ]
    },
    {
      "cell_type": "code",
      "metadata": {
        "colab": {
          "base_uri": "https://localhost:8080/"
        },
        "id": "N3-1braTzDGv",
        "outputId": "9a28fcdd-fd74-42a7-940a-2e54650eb76b"
      },
      "source": [
        "autoencoder.compile(\n",
        "    optimizer = 'adam',\n",
        "    loss = 'binary_crossentropy'\n",
        ")\n",
        "\n",
        "lr_shceduler = tf.keras.callbacks.ReduceLROnPlateau(monitor='val_loss',factor=0.1,patience=10,mode='min',min_lr=1e-5)\n",
        "\n",
        "autoencoder.fit(\n",
        "    train_data,\n",
        "    epochs = 20,\n",
        "    validation_data = test_data,\n",
        "    callbacks = [lr_shceduler],\n",
        "    verbose = 1\n",
        ")"
      ],
      "execution_count": null,
      "outputs": [
        {
          "output_type": "stream",
          "text": [
            "Epoch 1/20\n",
            "938/938 [==============================] - 9s 7ms/step - loss: 0.1436 - val_loss: 0.0823\n",
            "Epoch 2/20\n",
            "938/938 [==============================] - 8s 7ms/step - loss: 0.0942 - val_loss: 0.0772\n",
            "Epoch 3/20\n",
            "938/938 [==============================] - 8s 7ms/step - loss: 0.1201 - val_loss: 0.1020\n",
            "Epoch 4/20\n",
            "938/938 [==============================] - 8s 7ms/step - loss: 0.0915 - val_loss: 0.0787\n",
            "Epoch 5/20\n",
            "938/938 [==============================] - 8s 7ms/step - loss: 0.0969 - val_loss: 0.0904\n",
            "Epoch 6/20\n",
            "938/938 [==============================] - 8s 7ms/step - loss: 0.0837 - val_loss: 0.0778\n",
            "Epoch 7/20\n",
            "938/938 [==============================] - 8s 7ms/step - loss: 0.0972 - val_loss: 0.0774\n",
            "Epoch 8/20\n",
            "938/938 [==============================] - 8s 7ms/step - loss: 0.0810 - val_loss: 0.0744\n",
            "Epoch 9/20\n",
            "938/938 [==============================] - 8s 7ms/step - loss: 0.0838 - val_loss: 0.0817\n",
            "Epoch 10/20\n",
            "938/938 [==============================] - 8s 7ms/step - loss: 0.0835 - val_loss: 0.1521\n",
            "Epoch 11/20\n",
            "938/938 [==============================] - 8s 7ms/step - loss: 0.0922 - val_loss: 0.0765\n",
            "Epoch 12/20\n",
            "938/938 [==============================] - 8s 7ms/step - loss: 0.0828 - val_loss: 0.0777\n",
            "Epoch 13/20\n",
            "938/938 [==============================] - 8s 7ms/step - loss: 0.0809 - val_loss: 0.0755\n",
            "Epoch 14/20\n",
            "938/938 [==============================] - 8s 7ms/step - loss: 0.0807 - val_loss: 0.1636\n",
            "Epoch 15/20\n",
            "938/938 [==============================] - 8s 7ms/step - loss: 0.1075 - val_loss: 0.0771\n",
            "Epoch 16/20\n",
            "938/938 [==============================] - 8s 7ms/step - loss: 0.0913 - val_loss: 0.0826\n",
            "Epoch 17/20\n",
            "938/938 [==============================] - 8s 7ms/step - loss: 0.0851 - val_loss: 0.0772\n",
            "Epoch 18/20\n",
            "938/938 [==============================] - 8s 7ms/step - loss: 0.0806 - val_loss: 0.0841\n",
            "Epoch 19/20\n",
            "938/938 [==============================] - 8s 7ms/step - loss: 0.0821 - val_loss: 0.0757\n",
            "Epoch 20/20\n",
            "938/938 [==============================] - 8s 7ms/step - loss: 0.0778 - val_loss: 0.0741\n"
          ],
          "name": "stdout"
        },
        {
          "output_type": "execute_result",
          "data": {
            "text/plain": [
              "<tensorflow.python.keras.callbacks.History at 0x7f89f5f882d0>"
            ]
          },
          "metadata": {
            "tags": []
          },
          "execution_count": 58
        }
      ]
    },
    {
      "cell_type": "code",
      "metadata": {
        "colab": {
          "base_uri": "https://localhost:8080/",
          "height": 237
        },
        "id": "qN3kmHLG7fO2",
        "outputId": "e6524b27-6d6d-45e9-f747-31e33b815ab5"
      },
      "source": [
        "plt.figure(figsize=(8,5))\n",
        "\n",
        "for x_batch, y_batch in test_data.take(1):\n",
        "  for i in range(10):\n",
        "    \n",
        "    true_image = x_batch[i].numpy()\n",
        "    generated_image = autoencoder.predict(true_image[np.newaxis])\n",
        "    \n",
        "    plt.subplot(2,10,i+1)\n",
        "    plt.imshow(true_image.reshape(28,28),cmap='gray')\n",
        "    plt.subplot(2,10,i+1+10)\n",
        "    plt.imshow(generated_image.reshape(28,28),cmap='gray')"
      ],
      "execution_count": null,
      "outputs": [
        {
          "output_type": "display_data",
          "data": {
            "image/png": "[encoded data removed]",
            "text/plain": [
              "<Figure size 576x360 with 20 Axes>"
            ]
          },
          "metadata": {
            "tags": [],
            "needs_background": "light"
          }
        }
      ]
    },
    {
      "cell_type": "markdown",
      "metadata": {
        "id": "eVyVOQVz3ZUL"
      },
      "source": [
        "## Variational Auto-Encoder\n",
        "\n",
        "> The VAE loss is constituted by two parts.\n",
        "  1. The reconstruction loss, provided by the difference between the true images and the reconstructed ones.\n",
        "  2. The latent loss, the difference between the probability distribuition of the VAE latent space and a specific distribuition(in this case a  gaussian).\n",
        "\n",
        "In the latent loss, I'm using a trick. Instead of returning the var from the encoder, I instead use it as the log_var to reduce the complexity. Check latent loss VAE for further explanation [VAE Latent loss](https://stats.stackexchange.com/questions/304289/variational-autoencoder-understanding-the-latent-loss)\n",
        "\n",
        "\n",
        "> **Use a ore complex architecture**"
      ]
    },
    {
      "cell_type": "code",
      "metadata": {
        "id": "33NLjslY3a-o"
      },
      "source": [
        "#We use a sampling class instead of returning a gaussian with the latent mean and log_var because of the derivatives.\n",
        "#Basically the derivatives would have been block if one don't use a custon gaussian and then transformed it into the right mean and variance.\n",
        "class Sampling(tf.keras.layers.Layer):\n",
        "  #def __init__(self,mean = ):\n",
        "  def call(self,inputs):\n",
        "    mean,log_var = inputs\n",
        "    return tf.random_normal_initializer(mean=0,stddev=1,seed=42)(shape=tf.shape(mean)) * tf.math.exp(log_var / 2) + mean \n",
        "\n"
      ],
      "execution_count": null,
      "outputs": []
    },
    {
      "cell_type": "code",
      "metadata": {
        "colab": {
          "base_uri": "https://localhost:8080/"
        },
        "id": "ZJUOwWSU3yVv",
        "outputId": "0ae32811-f7ad-447f-d7b2-8c7613aab827"
      },
      "source": [
        "coding_size = 14\n",
        "\n",
        "inputs_en = tf.keras.layers.Input(shape=(28,28,1),name='image')\n",
        "x = tf.keras.layers.GaussianNoise(stddev=0.1)(x)\n",
        "x = ConvolutionalLayer(filters = 64 , kernel_size = 6, strides = 1)(inputs_en)\n",
        "x = tf.keras.layers.MaxPooling2D()(x)\n",
        "x = ConvolutionalLayer(filters = 128, kernel_size = 3)(x)\n",
        "x = ConvolutionalLayer(filters = 128, kernel_size = 3)(x)\n",
        "x = tf.keras.layers.Flatten()(x)\n",
        "\n",
        "mean = tf.keras.layers.Dense(coding_size,name='mean')(x)\n",
        "log_var = tf.keras.layers.Dense(coding_size,name='log_var')(x)\n",
        "coding_samples = Sampling()([mean,log_var])\n",
        "\n",
        "encoder = tf.keras.models.Model(inputs = inputs_en, outputs = [mean,log_var,coding_samples])\n",
        "\n",
        "#encoder.summary()\n",
        "\n",
        "inputs_dec = tf.keras.layers.Input(shape=(coding_size,),name='latent_space')\n",
        "x = tf.keras.layers.Dense(units = 6272)(inputs_dec)\n",
        "x = tf.keras.layers.Reshape([7,7,128])(x)\n",
        "x = TransposedConvolutional(filters = 128 , kernel_size = 3, strides = 1)(x)\n",
        "x = TransposedConvolutional(filters = 64, kernel_size = 3, strides = 1)(x)\n",
        "x = TransposedConvolutional(filters = 64, kernel_size = 3, strides = 2)(x)\n",
        "\n",
        "out = TransposedConvolutional(filters = 1, kernel_size = 6, strides = 1, name = 'reconstructed_image')(x)\n",
        "#reconstructed image\n",
        "\n",
        "\n",
        "decoder = tf.keras.models.Model(inputs = inputs_dec, outputs = out)\n",
        "\n",
        "#encoder.summary()\n",
        "#decoder.summary()\n",
        "\n",
        "\n",
        "mean,log_var,codings = encoder(inputs_en)\n",
        "reconstructed_images = decoder(codings)\n",
        "variational_ae = tf.keras.models.Model(inputs=inputs_en,outputs=reconstructed_images)\n",
        "\n",
        "variational_ae.summary()\n",
        "\n",
        "latent_loss = -0.5 * tf.math.reduce_sum( 1 +  log_var - tf.math.exp(log_var/2) - tf.square(mean) , axis = -1)\n",
        "variational_ae.add_loss(tf.math.reduce_mean(latent_loss)/(28*28))\n",
        "\n",
        "\n"
      ],
      "execution_count": null,
      "outputs": [
        {
          "output_type": "stream",
          "text": [
            "Model: \"model_73\"\n",
            "_________________________________________________________________\n",
            "Layer (type)                 Output Shape              Param #   \n",
            "=================================================================\n",
            "image (InputLayer)           [(None, 28, 28, 1)]       0         \n",
            "_________________________________________________________________\n",
            "model_71 (Functional)        [(None, 14), (None, 14),  399452    \n",
            "_________________________________________________________________\n",
            "model_72 (Functional)        (None, 28, 28, 1)         354689    \n",
            "=================================================================\n",
            "Total params: 754,141\n",
            "Trainable params: 754,141\n",
            "Non-trainable params: 0\n",
            "_________________________________________________________________\n"
          ],
          "name": "stdout"
        }
      ]
    },
    {
      "cell_type": "code",
      "metadata": {
        "colab": {
          "base_uri": "https://localhost:8080/"
        },
        "id": "pqWnZbol372L",
        "outputId": "4743b1b0-f9ee-46a1-d26f-54648402904a"
      },
      "source": [
        "variational_ae.compile(\n",
        "    optimizer = 'rmsprop',\n",
        "    loss = 'binary_crossentropy'\n",
        ")\n",
        "\n",
        "lr_shceduler = tf.keras.callbacks.ReduceLROnPlateau(monitor='val_loss',factor=0.1,patience=5,mode='min',min_lr=1e-5)\n",
        "\n",
        "history = variational_ae.fit(\n",
        "    train_data,\n",
        "    epochs = 30,\n",
        "    validation_data = test_data,\n",
        "    callbacks = [lr_shceduler],\n",
        "    verbose = 1\n",
        ")"
      ],
      "execution_count": null,
      "outputs": [
        {
          "output_type": "stream",
          "text": [
            "Epoch 1/30\n",
            "938/938 [==============================] - 11s 9ms/step - loss: 0.2916 - val_loss: 0.1957\n",
            "Epoch 2/30\n",
            "938/938 [==============================] - 9s 8ms/step - loss: 0.2086 - val_loss: 0.2502\n",
            "Epoch 3/30\n",
            "938/938 [==============================] - 9s 9ms/step - loss: 0.2355 - val_loss: 0.2038\n",
            "Epoch 4/30\n",
            "938/938 [==============================] - 9s 9ms/step - loss: 0.2352 - val_loss: 0.1978\n",
            "Epoch 5/30\n",
            "938/938 [==============================] - 9s 9ms/step - loss: 0.1980 - val_loss: 0.1827\n",
            "Epoch 6/30\n",
            "938/938 [==============================] - 9s 9ms/step - loss: 0.1971 - val_loss: 0.2605\n",
            "Epoch 7/30\n",
            "938/938 [==============================] - 9s 9ms/step - loss: 0.2379 - val_loss: 0.1948\n",
            "Epoch 8/30\n",
            "938/938 [==============================] - 9s 9ms/step - loss: 0.2302 - val_loss: 0.2049\n",
            "Epoch 9/30\n",
            "938/938 [==============================] - 9s 8ms/step - loss: 0.1990 - val_loss: 0.1847\n",
            "Epoch 10/30\n",
            "938/938 [==============================] - 9s 8ms/step - loss: 0.1948 - val_loss: 0.2028\n",
            "Epoch 11/30\n",
            "938/938 [==============================] - 10s 9ms/step - loss: 0.1843 - val_loss: 0.1729\n",
            "Epoch 12/30\n",
            "938/938 [==============================] - 9s 9ms/step - loss: 0.1748 - val_loss: 0.1740\n",
            "Epoch 13/30\n",
            "938/938 [==============================] - 9s 9ms/step - loss: 0.1726 - val_loss: 0.1677\n",
            "Epoch 14/30\n",
            "938/938 [==============================] - 9s 8ms/step - loss: 0.1699 - val_loss: 0.1660\n",
            "Epoch 15/30\n",
            "938/938 [==============================] - 9s 9ms/step - loss: 0.1692 - val_loss: 0.1662\n",
            "Epoch 16/30\n",
            "938/938 [==============================] - 9s 8ms/step - loss: 0.1666 - val_loss: 0.1642\n",
            "Epoch 17/30\n",
            "938/938 [==============================] - 10s 9ms/step - loss: 0.1699 - val_loss: 0.1629\n",
            "Epoch 18/30\n",
            "938/938 [==============================] - 9s 9ms/step - loss: 0.1662 - val_loss: 0.1674\n",
            "Epoch 19/30\n",
            "938/938 [==============================] - 9s 9ms/step - loss: 0.1654 - val_loss: 0.1622\n",
            "Epoch 20/30\n",
            "938/938 [==============================] - 9s 8ms/step - loss: 0.1630 - val_loss: 0.1634\n",
            "Epoch 21/30\n",
            "938/938 [==============================] - 9s 9ms/step - loss: 0.1629 - val_loss: 0.1599\n",
            "Epoch 22/30\n",
            "938/938 [==============================] - 9s 9ms/step - loss: 0.1615 - val_loss: 0.1596\n",
            "Epoch 23/30\n",
            "938/938 [==============================] - 9s 8ms/step - loss: 0.1601 - val_loss: 0.1594\n",
            "Epoch 24/30\n",
            "938/938 [==============================] - 9s 9ms/step - loss: 0.1601 - val_loss: 0.1623\n",
            "Epoch 25/30\n",
            "938/938 [==============================] - 9s 8ms/step - loss: 0.1606 - val_loss: 0.1579\n",
            "Epoch 26/30\n",
            "938/938 [==============================] - 9s 8ms/step - loss: 0.1588 - val_loss: 0.1568\n",
            "Epoch 27/30\n",
            "938/938 [==============================] - 9s 9ms/step - loss: 0.1620 - val_loss: 0.1584\n",
            "Epoch 28/30\n",
            "938/938 [==============================] - 10s 9ms/step - loss: 0.1586 - val_loss: 0.1612\n",
            "Epoch 29/30\n",
            "938/938 [==============================] - 9s 8ms/step - loss: 0.1587 - val_loss: 0.1564\n",
            "Epoch 30/30\n",
            "938/938 [==============================] - 9s 9ms/step - loss: 0.1570 - val_loss: 0.1559\n"
          ],
          "name": "stdout"
        },
        {
          "output_type": "execute_result",
          "data": {
            "text/plain": [
              "<tensorflow.python.keras.callbacks.History at 0x7f89afd3ae90>"
            ]
          },
          "metadata": {
            "tags": []
          },
          "execution_count": 167
        }
      ]
    },
    {
      "cell_type": "code",
      "metadata": {
        "colab": {
          "base_uri": "https://localhost:8080/",
          "height": 237
        },
        "id": "abvp1wWCKM-y",
        "outputId": "7347e11f-5a71-4385-d759-2f5f1c3cd5c5"
      },
      "source": [
        "plt.figure(figsize=(8,5))\n",
        "\n",
        "for x_batch, y_batch in test_data.take(1):\n",
        "  for i in range(10):\n",
        "    \n",
        "    true_image = x_batch[i].numpy()\n",
        "    generated_image = variational_ae.predict(true_image[np.newaxis])\n",
        "    \n",
        "    plt.subplot(2,10,i+1)\n",
        "    plt.imshow(true_image.reshape(28,28),cmap='gray')\n",
        "    plt.subplot(2,10,i+1+10)\n",
        "    plt.imshow(generated_image.reshape(28,28),cmap='gray')"
      ],
      "execution_count": null,
      "outputs": [
        {
          "output_type": "display_data",
          "data": {
            "image/png": "[encoded data removed]",
            "text/plain": [
              "<Figure size 576x360 with 20 Axes>"
            ]
          },
          "metadata": {
            "tags": [],
            "needs_background": "light"
          }
        }
      ]
    },
    {
      "cell_type": "markdown",
      "metadata": {
        "id": "NzGPymHiNdBv"
      },
      "source": [
        "### Now let's progress to gans"
      ]
    },
    {
      "cell_type": "code",
      "metadata": {
        "id": "w7UQRnC7NeqV"
      },
      "source": [
        "random_input_dimension = (10,10,1)\n",
        "input_shape = (28,28,1)\n",
        "#inputs = tf.keras.random_normal_initializer(mean=0,stddev=1)(shape=(random_input_dimension))\n",
        "\n",
        "generator = tf.keras.models.Sequential([\n",
        "  tf.keras.layers.Input(shape=(random_input_dimension)),\n",
        "  TransposedConvolutional(filters = 128, kernel_size = 3, strides = 2),\n",
        "  TransposedConvolutional(filters = 128, kernel_size = 3, strides = 1),\n",
        "  TransposedConvolutional(filters = 64, kernel_size = 3, strides = 1),\n",
        "  TransposedConvolutional(filters = 1 , kernel_size = 4, strides = 1),\n",
        "])\n",
        "\n",
        "#generator.summary()\n",
        "\n",
        "\n",
        "#inputs = tf.keras.random_normal_initializer(mean=0,stddev=1)(shape=(random_input_dimension))\n",
        "discriminator = tf.keras.models.Sequential([\n",
        "  #tf.keras.layers.Input(shape=(input_shape)),\n",
        "  ConvolutionalLayer(filters = 64 , kernel_size = 3),\n",
        "  tf.keras.layers.MaxPooling2D(),\n",
        "  ConvolutionalLayer(filters = 128, kernel_size = 3),\n",
        "  ConvolutionalLayer(filters = 128, kernel_size = 3),\n",
        "  tf.keras.layers.Flatten(),\n",
        "  tf.keras.layers.Dense(units = 128, activation = 'relu'),\n",
        "  tf.keras.layers.Dense(units = 1, activation = 'sigmoid')\n",
        "])\n",
        "\n",
        "\n",
        "#decoder.summary()\n",
        "\n",
        "gan = tf.keras.models.Sequential([generator,discriminator])\n",
        "discriminator.compile(optimizer ='adam', loss = 'binary_crossentropy', metrics=['acc'])\n",
        "discriminator.trainable = False\n",
        "gan.compile(optimizer ='adam', loss = 'binary_crossentropy', metrics=['acc'])"
      ],
      "execution_count": null,
      "outputs": []
    },
    {
      "cell_type": "code",
      "metadata": {
        "colab": {
          "base_uri": "https://localhost:8080/"
        },
        "id": "97_XBwrva_Zg",
        "outputId": "c224dce4-28ad-428a-f474-915abda4ef32"
      },
      "source": [
        "discriminator.summary()"
      ],
      "execution_count": null,
      "outputs": [
        {
          "output_type": "stream",
          "text": [
            "Model: \"sequential_52\"\n",
            "_________________________________________________________________\n",
            "Layer (type)                 Output Shape              Param #   \n",
            "=================================================================\n",
            "conv2d_208 (Conv2D)          (None, 26, 26, 64)        640       \n",
            "_________________________________________________________________\n",
            "max_pooling2d_66 (MaxPooling (None, 13, 13, 64)        0         \n",
            "_________________________________________________________________\n",
            "conv2d_209 (Conv2D)          (None, 11, 11, 128)       73856     \n",
            "_________________________________________________________________\n",
            "conv2d_210 (Conv2D)          (None, 9, 9, 128)         147584    \n",
            "_________________________________________________________________\n",
            "flatten_65 (Flatten)         (None, 10368)             0         \n",
            "_________________________________________________________________\n",
            "dense_50 (Dense)             (None, 128)               1327232   \n",
            "_________________________________________________________________\n",
            "dense_51 (Dense)             (None, 1)                 129       \n",
            "=================================================================\n",
            "Total params: 1,549,441\n",
            "Trainable params: 0\n",
            "Non-trainable params: 1,549,441\n",
            "_________________________________________________________________\n"
          ],
          "name": "stdout"
        }
      ]
    },
    {
      "cell_type": "code",
      "metadata": {
        "colab": {
          "base_uri": "https://localhost:8080/"
        },
        "id": "7MGePa9-TDQ9",
        "outputId": "7ba47e3a-d785-46fa-a217-6b38e0329491"
      },
      "source": [
        "def train_gan(gan, train_dataset, batch_size, n_epochs):\n",
        "  generator, discriminator = gan.layers\n",
        "  \n",
        "  for epoch in range(n_epochs):\n",
        "    \n",
        "    discriminator_batch_loss = 0\n",
        "    discriminator_batch_acc = 0\n",
        "    gan_batch_loss = 0\n",
        "    gan_batch_acc = 0\n",
        "\n",
        "    for step,(X_batch,y_batch) in enumerate(train_dataset.take(100)):\n",
        "    \n",
        "      noise = tf.random_normal_initializer(mean=0,stddev=1)(shape=(batch_size,10,10,1))\n",
        "      images = generator(noise)\n",
        "\n",
        "      #------#-----#-----#\n",
        "      #Fase 1 - Generate images with the generator and train the decoder\n",
        "      #------#-----#-----#\n",
        "\n",
        "      #(batch,28,28,1)\n",
        "      X_fake_and_real = tf.concat([images,X_batch],axis=0)\n",
        "      Y_fake_and_real = tf.constant([[0.]] * batch_size + [[1.]] * batch_size)\n",
        "     \n",
        "      X_fake_and_real = tf.random.shuffle(X_fake_and_real, seed = 42)\n",
        "      Y_fake_and_real = tf.random.shuffle(Y_fake_and_real, seed = 42)\n",
        "\n",
        "      discriminator.trainable = True\n",
        "      #print(X_fake_and_real.shape)\n",
        "      #print(Y_fake_and_real.shape)\n",
        "      \n",
        "      metrics = discriminator.train_on_batch(X_fake_and_real,Y_fake_and_real)\n",
        "      discriminator_batch_loss += metrics[0]\n",
        "      discriminator_batch_acc += metrics[1]\n",
        "      \n",
        "      \n",
        "\n",
        "      #------#-----#-----#\n",
        "      #Fase 2 - Train the generator \n",
        "      #------#-----#-----#\n",
        "\n",
        "      noise = tf.random_normal_initializer(mean=0,stddev=1)(shape=(batch_size,10,10,1))\n",
        "      y2 = tf.constant([[1.]]*batch_size)\n",
        "\n",
        "      discriminator.trainable = False\n",
        "      metrics = gan.train_on_batch(noise,y2)\n",
        "      gan_batch_loss += metrics[0]\n",
        "      gan_batch_acc += metrics[1]\n",
        "      \n",
        "    \n",
        "    print(\"Gan loss = {0} | Gan accuracy = {1} | Discriminator accuracy = {2} | Discriminator loss = {3}\".format( gan_batch_loss/step , gan_batch_acc/step , discriminator_batch_acc/step , discriminator_batch_loss/step))\n",
        "\n",
        "train_gan(gan, train_data, batch_size, 10)\n"
      ],
      "execution_count": null,
      "outputs": [
        {
          "output_type": "stream",
          "text": [
            "Gan loss = 0.7001486691561613 | Gan accuracy = 0.0 | Discriminator accuracy = 0.5050505050505051 | Discriminator loss = 0.7001486691561613\n",
            "Gan loss = 0.7001486691561613 | Gan accuracy = 0.0 | Discriminator accuracy = 0.5050505050505051 | Discriminator loss = 0.7001486691561613\n",
            "Gan loss = 0.7001486691561613 | Gan accuracy = 0.0 | Discriminator accuracy = 0.5050505050505051 | Discriminator loss = 0.7001486691561613\n",
            "Gan loss = 0.7001486691561613 | Gan accuracy = 0.0 | Discriminator accuracy = 0.5050505050505051 | Discriminator loss = 0.7001486691561613\n",
            "Gan loss = 0.7001486691561613 | Gan accuracy = 0.0 | Discriminator accuracy = 0.5050505050505051 | Discriminator loss = 0.7001486691561613\n",
            "Gan loss = 0.7001486691561613 | Gan accuracy = 0.0 | Discriminator accuracy = 0.5050505050505051 | Discriminator loss = 0.7001486691561613\n",
            "Gan loss = 0.7001486872181748 | Gan accuracy = 0.0 | Discriminator accuracy = 0.5050505050505051 | Discriminator loss = 0.7001486691561613\n",
            "Gan loss = 0.7001486691561613 | Gan accuracy = 0.0 | Discriminator accuracy = 0.5050505050505051 | Discriminator loss = 0.7001486691561613\n",
            "Gan loss = 0.7001486691561613 | Gan accuracy = 0.0 | Discriminator accuracy = 0.5050505050505051 | Discriminator loss = 0.7001486691561613\n",
            "Gan loss = 0.7001486691561613 | Gan accuracy = 0.0 | Discriminator accuracy = 0.5050505050505051 | Discriminator loss = 0.7001486691561613\n"
          ],
          "name": "stdout"
        }
      ]
    },
    {
      "cell_type": "code",
      "metadata": {
        "id": "TeBrvgSrai3v"
      },
      "source": [
        "gan.test_on_batch?"
      ],
      "execution_count": null,
      "outputs": []
    },
    {
      "cell_type": "code",
      "metadata": {
        "id": "WKgH_643b3NG"
      },
      "source": [
        ""
      ],
      "execution_count": null,
      "outputs": []
    }
  ]
}