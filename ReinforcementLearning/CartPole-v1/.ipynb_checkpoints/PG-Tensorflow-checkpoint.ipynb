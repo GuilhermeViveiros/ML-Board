{
 "cells": [
  {
   "cell_type": "markdown",
   "metadata": {},
   "source": [
    "## Solving CartPole with Policy Gradient and Tensorflow"
   ]
  },
  {
   "cell_type": "code",
   "execution_count": 54,
   "metadata": {},
   "outputs": [],
   "source": [
    "import numpy as np\n",
    "import gym\n",
    "import jdc\n",
    "import tensorflow as tf\n",
    "import tensorflow.keras as keras"
   ]
  },
  {
   "cell_type": "code",
   "execution_count": 55,
   "metadata": {},
   "outputs": [],
   "source": [
    "import matplotlib\n",
    "import matplotlib.pyplot as plt\n",
    "from itertools import count #just to count\n",
    "from PIL import Image\n",
    "\n",
    "is_ipython = 'inline' in matplotlib.get_backend()\n",
    "if is_ipython: from IPython import display"
   ]
  },
  {
   "cell_type": "code",
   "execution_count": 56,
   "metadata": {},
   "outputs": [],
   "source": [
    "class CartPoleEnvironment():\n",
    "    #Initialize the environment\n",
    "    def env_init(self,env_info={}):\n",
    "        raise NotImplementedError\n",
    "        \n",
    "    #Take the first action\n",
    "    def env_start(self):\n",
    "        raise NotImplementedError\n",
    "        \n",
    "    #Take an action and observed the next reward, state and termination boolean\n",
    "    def env_step(self,action):\n",
    "        raise NotImplementedError\n",
    "    \n",
    "    def env_cleanup(self):\n",
    "        #\"\"\"Cleanup done after the environment ends\"\"\"\n",
    "        #self.agent_loc = self.start_loc\n",
    "        raise NotImplementedError"
   ]
  },
  {
   "cell_type": "code",
   "execution_count": 57,
   "metadata": {},
   "outputs": [],
   "source": [
    "%%add_to CartPoleEnvironment\n",
    "\n",
    "def env_init(self, env_info = {}):\n",
    "    #environment\n",
    "    self.env = gym.make('CartPole-v0')\n",
    "    \n",
    "    #If it's to render or not, get search the Render in the dictionary, otherwise it uses the default False\n",
    "    self.render = env_info.get('render',False)\n",
    "\n",
    "def env_start(self):\n",
    "    #first state\n",
    "    state = self.env.reset()\n",
    "    self.reward_state_done = (0,state,False)\n",
    "    \n",
    "    return self.reward_state_done \n",
    "    \n",
    "def env_step(self,action):\n",
    "    state, reward, done, info = self.env.step(int (action[0,0].numpy()))\n",
    "    self.reward_state_done = (reward, state, done)\n",
    "    \n",
    "    return self.reward_state_done"
   ]
  },
  {
   "cell_type": "code",
   "execution_count": 58,
   "metadata": {},
   "outputs": [],
   "source": [
    "env = CartPoleEnvironment()\n",
    "env.env_init()"
   ]
  },
  {
   "cell_type": "code",
   "execution_count": 59,
   "metadata": {},
   "outputs": [],
   "source": [
    "class PG():\n",
    "    \n",
    "    def __init__(self):\n",
    "        self.policy_network((4,),[5])\n",
    "        self.policy.summary()\n",
    "    #agent policy that predicts the action to take in each step\n",
    "    #Uses Adam as optimizer and Binary Cross Entropy as loss function since it's just have two action, left or right\n",
    "    def policy_network(self,input_shape,hidden_layers):\n",
    "        self.policy = keras.Sequential()\n",
    "        \n",
    "        self.policy.add(keras.layers.Input(shape=input_shape))\n",
    "    \n",
    "        for i in hidden_layers:\n",
    "            self.policy.add(keras.layers.Dense(units=i, activation = 'elu'))\n",
    "    \n",
    "        self.policy.add(keras.layers.Dense(units=1,activation='sigmoid'))\n",
    "   \n",
    "        self.policy.compile(optimizer='adam',loss='binary_cross_entropy',metrics=['accuracy'])\n",
    "    \n",
    "    def play_one_step(self,state,loss_fn):\n",
    "        raise NotImplementedError\n",
    "    \n",
    "    def play_multiple_steps(self,episodes,loss_fn):\n",
    "        raise NotImplementedError\n",
    "        \n",
    "    def discounted_reward(self,rewards,discount_factor):\n",
    "        raise NotImplementedError\n",
    "    \n",
    "    def discount_and_normalize_rewards(self,all_rewards,discount_factor):\n",
    "        raise NotImplementedError\n",
    "    \n",
    "    def threshold(self,rewards_per_10_episodes):\n",
    "            \n",
    "        return (np.sum([sum(rewards_per_episode) >= 190 for rewards_per_episode in rewards_per_10_episodes]) == 10)\n",
    "            \n",
    "    "
   ]
  },
  {
   "cell_type": "code",
   "execution_count": 60,
   "metadata": {},
   "outputs": [],
   "source": [
    "%%add_to PG\n",
    "\n",
    "#assume that left it's always correct\n",
    "def play_one_step(self,state,loss_fn):\n",
    "   \n",
    "    with tf.GradientTape() as tape:\n",
    "        #letft probability using the policy network\n",
    "        left_proba = self.policy(state[np.newaxis])\n",
    "        \n",
    "        #compute the action, False if < left_probla otherwise 1\n",
    "        action = (tf.random.uniform([1,1]) > left_proba)\n",
    "        \n",
    "        #Compute the target\n",
    "        target = tf.constant([[1.]]) - tf.cast(action, dtype=tf.float32)\n",
    "        \n",
    "        #compute the loss\n",
    "        loss = tf.reduce_mean(loss_fn(target,left_proba))\n",
    "    \n",
    "    grads = tape.gradient(loss,self.policy.trainable_variables)\n",
    "    reward,state,done = env.env_step(action)\n",
    "    \n",
    "    return reward,state,done,grads\n",
    "    "
   ]
  },
  {
   "cell_type": "code",
   "execution_count": 61,
   "metadata": {},
   "outputs": [],
   "source": [
    "%%add_to PG\n",
    "\n",
    "def play_episodes(self,episodes,loss_fn):\n",
    "    \n",
    "    all_grads = []\n",
    "    all_rewards = []\n",
    "    \n",
    "    for i in range(episodes):\n",
    "        \n",
    "        #gradients and rewards associated with the step\n",
    "        episodic_grads = []\n",
    "        episodic_rewards = []\n",
    "        \n",
    "        _,state,done = env.env_start()\n",
    "        \n",
    "        \n",
    "        #while the episode isn't over\n",
    "        while(done is not True):\n",
    "            #make one step and capture the:\n",
    "            #Next state,Reward and\n",
    "            #Grads associated and a boolean indicating if it's a terminal state\n",
    "            reward,state,done,grads = self.play_one_step(state,loss_fn)\n",
    "            episodic_grads.append(grads)\n",
    "            episodic_rewards.append(reward)\n",
    "            \n",
    "        #append the gradients and rewards of the episodic tasks\n",
    "        all_grads.append(episodic_grads)\n",
    "        all_rewards.append(episodic_rewards)\n",
    "        \n",
    "        #start all over again\n",
    "        episodic_grads = []\n",
    "        episodic_rewards = []\n",
    "    \n",
    "    return all_grads,all_rewards"
   ]
  },
  {
   "cell_type": "code",
   "execution_count": 62,
   "metadata": {},
   "outputs": [],
   "source": [
    "%%add_to PG\n",
    "\n",
    "def discounted_reward(self,rewards, discount_factor):\n",
    "    \n",
    "    r = rewards.copy()\n",
    "    \n",
    "    for i in range(len(r)-2,-1,-1):\n",
    "        r[i] += r[i+1] * discount_factor\n",
    "    \n",
    "    return r\n",
    "    \n",
    "def discount_and_normalize_rewards(self,all_rewards,discount_factor):\n",
    "    \n",
    "    all_discounted_rewards = [self.discounted_reward(rewards,discount_factor) for rewards in all_rewards]\n",
    "    contatenated_rewards = np.concatenate(all_discounted_rewards)\n",
    "    mean,std = np.mean(contatenated_rewards), np.std(contatenated_rewards)\n",
    "    \n",
    "    return [(discounted_rewards-mean)/std for discounted_rewards in all_discounted_rewards]\n",
    "    \n",
    "    "
   ]
  },
  {
   "cell_type": "code",
   "execution_count": 63,
   "metadata": {},
   "outputs": [
    {
     "name": "stdout",
     "output_type": "stream",
     "text": [
      "Model: \"sequential_2\"\n",
      "_________________________________________________________________\n",
      "Layer (type)                 Output Shape              Param #   \n",
      "=================================================================\n",
      "dense_4 (Dense)              (None, 5)                 25        \n",
      "_________________________________________________________________\n",
      "dense_5 (Dense)              (None, 1)                 6         \n",
      "=================================================================\n",
      "Total params: 31\n",
      "Trainable params: 31\n",
      "Non-trainable params: 0\n",
      "_________________________________________________________________\n"
     ]
    }
   ],
   "source": [
    "agent = PG()"
   ]
  },
  {
   "cell_type": "markdown",
   "metadata": {},
   "source": [
    "## HyperParameters"
   ]
  },
  {
   "cell_type": "code",
   "execution_count": 64,
   "metadata": {},
   "outputs": [],
   "source": [
    "n_iterations = 150\n",
    "n_episodes_per_update = 10\n",
    "discount_factor = 0.95\n",
    "learning_rate = 0.01"
   ]
  },
  {
   "cell_type": "code",
   "execution_count": 65,
   "metadata": {},
   "outputs": [],
   "source": [
    "optimizer = keras.optimizers.Adam(lr = learning_rate)\n",
    "loss_fn = keras.losses.binary_crossentropy"
   ]
  },
  {
   "cell_type": "markdown",
   "metadata": {},
   "source": [
    "> Plotting code"
   ]
  },
  {
   "cell_type": "code",
   "execution_count": 66,
   "metadata": {},
   "outputs": [],
   "source": [
    "class PlotRewards():\n",
    "    def __init__(self,plot_info={}):\n",
    "\n",
    "        self.avg = []\n",
    "        self.moving_average = []\n",
    "        self.mean_average = plot_info.get(\"mean_average\",False)\n",
    "\n",
    "    def plot(self,rewards_per_10_episodes):\n",
    "        plt.figure(2)\n",
    "        plt.clf()\n",
    "        plt.title('Training --- Each iteration has 10 episodes inside')\n",
    "        plt.xlabel('Episode')\n",
    "        plt.ylabel('Duration')\n",
    "\n",
    "        for rewards_per_episod in rewards_per_10_episodes:\n",
    "            self.avg.append(np.sum(rewards_per_episod))\n",
    "\n",
    "        #Plot the sum reward of every episode in each iteration that consis$\n",
    "        plt.plot(self.avg,label='Mean Reward per Episode');\n",
    "        plt.legend();\n",
    "         #if the user want to check an average window of 10, put it innto the di$\n",
    "        if(self.mean_average):\n",
    "            self.plot_moving_average();\n",
    "            plt.plot(self.moving_average,c='r',label='Mean Reward per iteration');\n",
    "            plt.legend();\n",
    "            \n",
    "        plt.pause(0.001)\n",
    "        print(\"Episode \", len(self.avg))\n",
    "        if is_ipython: display.clear_output(wait=True)\n",
    "\n",
    "    #Moving average with a window of 10\n",
    "    def plot_moving_average(self):\n",
    "        if(len(self.avg) < 10):\n",
    "            [self.moving_average.append(0) for i in range(10)]\n",
    "        else:\n",
    "            [self.moving_average.append(np.mean(self.avg[-10:])) for i in range(10)]\n",
    "    \n",
    "    "
   ]
  },
  {
   "cell_type": "code",
   "execution_count": 68,
   "metadata": {},
   "outputs": [
    {
     "name": "stdout",
     "output_type": "stream",
     "text": [
      "Iteration  120\n"
     ]
    },
    {
     "data": {
      "image/png": "[encoded data removed]",
      "text/plain": [
       "<Figure size 432x288 with 1 Axes>"
      ]
     },
     "metadata": {
      "needs_background": "light"
     },
     "output_type": "display_data"
    },
    {
     "name": "stdout",
     "output_type": "stream",
     "text": [
      "Episode  1210\n"
     ]
    }
   ],
   "source": [
    "import copy\n",
    "\n",
    "plot_info = {\n",
    "    \"mean_average\" : True\n",
    "}\n",
    "\n",
    "plot = PlotRewards(plot_info)\n",
    "\n",
    "for iteration in range(n_iterations):\n",
    "    \n",
    "    #play 10 episodes and compute the gradients and rewards\n",
    "    all_grads,all_rewards = agent.play_episodes(n_episodes_per_update,loss_fn)\n",
    "   \n",
    "    #if it reaches a nearly optimal solution we stop the training process\n",
    "    if(agent.threshold(all_rewards)):\n",
    "        break\n",
    "    \n",
    "    #normalize and discount the rewards\n",
    "    all_final_rewards = agent.discount_and_normalize_rewards(all_rewards,discount_factor)\n",
    "    \n",
    "    #This part is the key of policy gradients;\n",
    "    #We use the reward of several episodes and iterations and multiply them by the grads associated;\n",
    "    #In this case we have 4 weights, w1 and b1 and in within the hidden layer and output layer, w2 and b2;\n",
    "    #So for example we have 10 episodes, and the first have 9 iteriations\n",
    "    #In each iteration we compute the gradients, in this case the first weight w1 is a matrix (4,12)\n",
    "    #We multiply each weight with the reward and do this in the rest of iterations and episoded\n",
    "    #In the end we avreage this results, for w1 converging to 4,12 \n",
    "    #each of this connections it's an average result over all the iterations in all the episoides of the gradients * reward\n",
    "    #Even if the action is a bad action that lead to some good retunrs sometimes, in average the returns will be good if the action happens to be good either\n",
    "    #This is called action advantage\n",
    "    \n",
    "    all_final_grads = []\n",
    "    \n",
    "    for var_index in range(len(agent.policy.trainable_variables)):\n",
    "        mean_grad = tf.reduce_mean([\n",
    "            final_reward * all_grads[episode_index][step][var_index]\n",
    "                for episode_index, final_rewards in enumerate(all_final_rewards)\n",
    "                    for step, final_reward in enumerate(final_rewards)\n",
    "            ],axis=0)\n",
    "        \n",
    "        all_final_grads.append(mean_grad)\n",
    "\n",
    "    #and then I aplly the gradients with respect to ervery weight\n",
    "    optimizer.apply_gradients(zip(all_final_grads, agent.policy.trainable_variables))\n",
    "    \n",
    "    if(iteration % 10 == 0):\n",
    "        print(\"Iteration \", iteration)\n",
    "    \n",
    "    #plot each iteration\n",
    "    plot.plot(all_rewards)\n",
    "    "
   ]
  },
  {
   "cell_type": "markdown",
   "metadata": {},
   "source": [
    "## Real time playing with trained policy"
   ]
  },
  {
   "cell_type": "code",
   "execution_count": 70,
   "metadata": {},
   "outputs": [
    {
     "name": "stdout",
     "output_type": "stream",
     "text": [
      "Episode finished after 200 timesteps\n",
      "Episode finished after 200 timesteps\n",
      "Episode finished after 200 timesteps\n",
      "Episode finished after 200 timesteps\n",
      "Episode finished after 200 timesteps\n",
      "Episode finished after 200 timesteps\n",
      "Episode finished after 200 timesteps\n",
      "Episode finished after 200 timesteps\n",
      "Episode finished after 200 timesteps\n",
      "Episode finished after 200 timesteps\n",
      "Episode finished after 200 timesteps\n",
      "Episode finished after 200 timesteps\n",
      "Episode finished after 200 timesteps\n",
      "Episode finished after 200 timesteps\n",
      "Episode finished after 200 timesteps\n",
      "Episode finished after 200 timesteps\n",
      "Episode finished after 200 timesteps\n",
      "Episode finished after 200 timesteps\n",
      "Episode finished after 200 timesteps\n",
      "Episode finished after 200 timesteps\n"
     ]
    }
   ],
   "source": [
    "import gym\n",
    "env = gym.make('CartPole-v0')\n",
    "for i_episode in range(20):\n",
    "    observation = env.reset()\n",
    "    for t in range(200):\n",
    "        env.render()\n",
    "        #print(observation)\n",
    "        left_proba = agent.policy(observation[np.newaxis])\n",
    "        #print(left_proba)\n",
    "        if(left_proba.numpy() < 0.5): \n",
    "            action = 1\n",
    "        else:\n",
    "            action = 0\n",
    "        \n",
    "        observation, reward, done, info = env.step(action)\n",
    "        if done:\n",
    "            print(\"Episode finished after {} timesteps\".format(t+1))\n",
    "            break\n",
    "env.close()"
   ]
  },
  {
   "cell_type": "code",
   "execution_count": null,
   "metadata": {},
   "outputs": [],
   "source": []
  },
  {
   "cell_type": "code",
   "execution_count": null,
   "metadata": {},
   "outputs": [],
   "source": []
  }
 ],
 "metadata": {
  "kernelspec": {
   "display_name": "Python 3",
   "language": "python",
   "name": "python3"
  },
  "language_info": {
   "codemirror_mode": {
    "name": "ipython",
    "version": 3
   },
   "file_extension": ".py",
   "mimetype": "text/x-python",
   "name": "python",
   "nbconvert_exporter": "python",
   "pygments_lexer": "ipython3",
   "version": "3.8.2"
  }
 },
 "nbformat": 4,
 "nbformat_minor": 4
}
